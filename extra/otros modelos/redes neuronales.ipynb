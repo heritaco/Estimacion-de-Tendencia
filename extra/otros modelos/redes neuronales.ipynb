{
 "cells": [
  {
   "cell_type": "markdown",
   "id": "336215c0",
   "metadata": {},
   "source": [
    "Redes neuronales recurrentes (RNN, LSTM, Transformer) para capturar no linealidades y memoria larga."
   ]
  }
 ],
 "metadata": {
  "language_info": {
   "name": "python"
  }
 },
 "nbformat": 4,
 "nbformat_minor": 5
}
