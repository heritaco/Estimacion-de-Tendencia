{
 "cells": [
  {
   "cell_type": "markdown",
   "id": "a16414de",
   "metadata": {},
   "source": [
    "05 Tratamiento como dato faltante poner NaN en 2020Q2 y ajustar con Kalman. Útil si solo quieres excluir su influencia, pero no captura el cambio de nivel"
   ]
  }
 ],
 "metadata": {
  "language_info": {
   "name": "python"
  }
 },
 "nbformat": 4,
 "nbformat_minor": 5
}
